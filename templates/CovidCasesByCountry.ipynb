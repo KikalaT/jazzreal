{
 "cells": [
  {
   "cell_type": "code",
   "execution_count": null,
   "metadata": {
    "collapsed": true
   },
   "outputs": [],
   "source": [
    "import numpy as np\n",
    "import pandas as pd"
   ]
  },
  {
   "cell_type": "code",
   "execution_count": null,
   "metadata": {
    "collapsed": true
   },
   "outputs": [],
   "source": [
    "from bokeh.tile_providers import get_provider, ESRI_IMAGERY, OSM\n",
    "from bokeh.plotting import figure, show\n",
    "from bokeh.io import curdoc, show, output_notebook\n",
    "from bokeh.layouts import row, column\n",
    "from bokeh.models import ColumnDataSource, Select, HoverTool\n",
    "from bokeh.palettes import Spectral3\n",
    "from bokeh.themes import Theme"
   ]
  },
  {
   "cell_type": "code",
   "execution_count": null,
   "metadata": {
    "collapsed": true
   },
   "outputs": [],
   "source": [
    "output_notebook()"
   ]
  },
  {
   "cell_type": "code",
   "execution_count": null,
   "metadata": {
    "collapsed": true
   },
   "outputs": [],
   "source": [
    "def bkapp(doc):\n",
    "    #get data\n",
    "    abridged_url = \"https://pomber.github.io/covid19/timeseries.json\"\n",
    "    df = pd.read_json(abridged_url)\n",
    "\n",
    "    #create datetime index\n",
    "    dates = pd.to_datetime([(x['date']) for x in df['France']])\n",
    "\n",
    "    #create global dataframe\n",
    "    df_global = pd.Series(index=df.columns,dtype='object')\n",
    "\n",
    "    for country in df.columns:\n",
    "        confirmed = [x['confirmed'] for x in df[country]]\n",
    "        deaths = [x['deaths'] for x in df[country]]\n",
    "        recovered = [x['recovered'] for x in df[country]]\n",
    "        confirmed = pd.Series(confirmed, index=dates)\n",
    "        deaths = pd.Series(deaths, index=dates)\n",
    "        recovered = pd.Series(recovered, index=dates)\n",
    "        df_global[country] = pd.DataFrame({'confirmed': confirmed, 'recovered': recovered, 'deaths': deaths})\n",
    "\n",
    "    #create empty DataFrame for clearing purpose\n",
    "    empty_df = pd.DataFrame()\n",
    "    blank = pd.Series(index=dates, dtype='object')\n",
    "    df_global['BLANK'] = pd.DataFrame({'confirmed': blank, 'recovered': blank, 'deaths': blank})\n",
    "\n",
    "    #set source to empty DataFrame with ColumnDataSource model\n",
    "    source = ColumnDataSource(df_global['BLANK'])\n",
    "\n",
    "    #create and draw figure p\n",
    "    p = figure(x_axis_type='datetime')\n",
    "    p.line(x='index', y='confirmed', line_color=None, source=ColumnDataSource(df_global['BLANK']), legend_label='Confirmed')\n",
    "    p.line(x='index', y='recovered', line_color=None, source=ColumnDataSource(df_global['BLANK']), legend_label='Recovered')\n",
    "    p.line(x='index', y='deaths', line_color=None, source=ColumnDataSource(df_global['BLANK']), legend_label='Deaths')\n",
    "    p.yaxis.axis_label = 'COVID19 Cases'\n",
    "    p.legend.location = \"top_left\"\n",
    "\n",
    "    #create and draw figure p2 on worldmap\n",
    "    tile_provider = get_provider(OSM)\n",
    "    p2 = figure(x_range=(-2000000, 6000000), y_range=(-1000000, 7000000), x_axis_type=\"mercator\", y_axis_type=\"mercator\")\n",
    "    p2.add_tile(tile_provider)\n",
    "\n",
    "    #functions that converts lon/lat to MercatorX/Y\n",
    "    def mercX(lon):\n",
    "        k = 6378137\n",
    "        return lon * (k * np.pi/180.0)\n",
    "\n",
    "    def mercY(lat):\n",
    "        k = 6378137\n",
    "        return np.log(np.tan((90 + lat) * np.pi/360.0)) * k\n",
    "\n",
    "    #calculate max deaths from df_global\n",
    "    death_list = list()\n",
    "    for country in df_global.index:\n",
    "        death_list.append(df_global[country]['deaths'].max())\n",
    "    max_deaths = max(death_list)\n",
    "\n",
    "    #create Dataframe with (MercatorX/Y,deaths,deaths_circle)\n",
    "    df_coordinates = pd.read_csv('/home/jericho/CODE/countries_coordinates.csv')\n",
    "    df_coordinates.set_index('name', inplace=True)\n",
    "    for country in df_coordinates.index:\n",
    "        try:\n",
    "            df_coordinates.loc[country,'MercatorX'] = int(mercX(df_coordinates.loc[country,'longitude']))\n",
    "        except ValueError:\n",
    "            df_coordinates.loc[country,'MercatorX'] = 0\n",
    "        try:\n",
    "            df_coordinates.loc[country,'MercatorY'] = int(mercX(df_coordinates.loc[country,'latitude']))\n",
    "        except ValueError:\n",
    "            df_coordinates.loc[country,'MercatorY'] = 0\n",
    "        try:\n",
    "            df_coordinates.loc[country,'deaths'] = df_global[country]['deaths'].max()\n",
    "        except ValueError:\n",
    "            df_coordinates.loc[country,'deaths'] = 0\n",
    "        except KeyError:\n",
    "            pass\n",
    "        try:\n",
    "            df_coordinates.loc[country,'deaths_circle'] = (df_global[country]['deaths'].max()*200)/max_deaths\n",
    "        except KeyError:\n",
    "            pass\n",
    "\n",
    "    #draw circles by country's lat & lon\n",
    "    for country in df_coordinates.index:\n",
    "        try:\n",
    "            p2.circle(x='MercatorX', \n",
    "                    y='MercatorY',\n",
    "                    size='deaths_circle',\n",
    "                    fill_color=\"dodgerblue\", line_color=\"dodgerblue\",\n",
    "                    fill_alpha=0.01,\n",
    "                    source=ColumnDataSource(df_coordinates)\n",
    "                    )\n",
    "        except ValueError:\n",
    "            p2.circle(x=0,y=0)\n",
    "        except KeyError:\n",
    "            p2.circle(x=0,y=0)\n",
    "\n",
    "    #update callback triggered by Select model\n",
    "    def update_country(attr, old, new):\n",
    "\n",
    "        doc.clear()\n",
    "\n",
    "        global p\n",
    "        global source\n",
    "\n",
    "        country = select_country.value\n",
    "        source = ColumnDataSource(df_global[country])\n",
    "\n",
    "        p = figure(x_axis_type='datetime')\n",
    "        p.line(x='index', y='confirmed', line_width=2, source=source, legend_label='Confirmed')\n",
    "        p.line(x='index', y='recovered', line_width=2, source=source, color=Spectral3[1], legend_label='Recovered')\n",
    "        p.line(x='index', y='deaths', line_width=2, source=source, color=Spectral3[2], legend_label='Deaths')\n",
    "        p.yaxis.axis_label = country +' COVID19 Cases'\n",
    "        p.legend.location = \"top_left\"\n",
    "        p.add_tools(p_hover)\n",
    "\n",
    "        doc.add_root(row(column(p,p2),select_country))\n",
    "\n",
    "    #create Select model and assign callback\n",
    "    select_country = Select(title=\"Country\",  options=list(df.columns), value = '')\n",
    "    select_country.on_change('value', update_country)\n",
    "\n",
    "    #create HoverTool and add it to figure p\n",
    "    p_hover = HoverTool()\n",
    "    p_hover.tooltips = [('Confirmed', '@confirmed'),('Recovered', '@recovered'),('Deaths', '@deaths')]\n",
    "    p.add_tools(p_hover)\n",
    "\n",
    "    #create HoverTool and add it to figure p2\n",
    "    p2_hover = HoverTool()\n",
    "    p2_hover.tooltips = [('Country', '@name'),('Deaths', '@deaths')]\n",
    "    p2.add_tools(p2_hover)\n",
    "\n",
    "    #add models (row) to current document\n",
    "    doc.add_root(row(column(p,p2),select_country))"
   ]
  },
  {
   "cell_type": "code",
   "execution_count": null,
   "metadata": {
    "collapsed": true
   },
   "outputs": [],
   "source": [
    "show(bkapp) # notebook_url=\"http://localhost:8888\""
   ]
  }
 ],
 "metadata": {
  "kernelspec": {
   "display_name": "Python 3.6",
   "language": "python",
   "name": "python3.6"
  },
  "language_info": {
   "codemirror_mode": {
    "name": "ipython",
    "version": 3
   },
   "file_extension": ".py",
   "mimetype": "text/x-python",
   "name": "python",
   "nbconvert_exporter": "python",
   "pygments_lexer": "ipython3",
   "version": "3.6.6"
  }
 },
 "nbformat": 4,
 "nbformat_minor": 0
}
